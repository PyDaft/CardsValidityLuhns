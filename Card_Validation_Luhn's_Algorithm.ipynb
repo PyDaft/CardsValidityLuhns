{
 "cells": [
  {
   "cell_type": "markdown",
   "id": "b75f528a-ca8a-451b-b97d-62905cf0524d",
   "metadata": {},
   "source": [
    "# Luhn Algorithm for credit card validation"
   ]
  },
  {
   "cell_type": "markdown",
   "id": "f4a3a6fe-527a-4802-a4dd-8587f99659f0",
   "metadata": {},
   "source": [
    "We will be performing the following checks here. \n",
    "1. the digits in card length should be equal to 12\n",
    "2. luhn's algorithm for number check as follows\n",
    "\n",
    "   \n",
    "--------------LUHN's Algoritm---------------------\n",
    "\n",
    "<b> Steps of the Luhn Algorithm:</b>\r\n",
    "Starting from the rightmost digit, double the value of every second digit.\r\n",
    "If doubling a number results in a number greater than 9, add the digits of the product (e.g., 12 becomes 1 + 2 = 3).\r\n",
    "Sum all the digits.\r\n",
    "If the total modulo 10 is 0, the number is valid; otherwise, it is not.\n"
   ]
  },
  {
   "cell_type": "code",
   "execution_count": 27,
   "id": "4feb4171-536e-42cb-9623-9dc382297bba",
   "metadata": {},
   "outputs": [],
   "source": [
    "def card_validation(card_number):\n",
    "    digits = list()\n",
    "    def digits_of(card_number): #function to convert the number to a list of all digits in a card number\n",
    "        return [int(d) for d in str(card_number)]\n",
    "    \n",
    "    digits = digits_of(card_number)\n",
    "    \n",
    "    if len(digits) == 12: #first check that the total digits should be exactly 12\n",
    "        odd_digits = digits[-1::-2] #using a slice operator is an efficient way else you can also use a \n",
    "        #list comprehension or for loop with a modulus operator\n",
    "        even_digits = digits[-2::-2]\n",
    "        # We first get the total of all odd numbers\n",
    "        check_sum = sum(odd_digits)\n",
    "        for d in even_digits:\n",
    "            check_sum += sum(digits_of(d*2))\n",
    "\n",
    "        if check_sum%10 == 0:\n",
    "            print(\"card validation success\")\n",
    "        else:\n",
    "            print(\"card is invalid!!\")\n",
    "    else:\n",
    "        print(\"invalid number. The digits in a the card are not total of 12 in length\")"
   ]
  },
  {
   "cell_type": "code",
   "execution_count": 29,
   "id": "cd3c76e1-f4fa-44d0-ad33-a1078071a8db",
   "metadata": {},
   "outputs": [
    {
     "name": "stdout",
     "output_type": "stream",
     "text": [
      "invalid number. The digits in a the card are not total of 12 in length\n"
     ]
    }
   ],
   "source": [
    "card_validation(\"2345567\")"
   ]
  },
  {
   "cell_type": "code",
   "execution_count": 31,
   "id": "e69e65f2-e93a-4e53-b32d-beccde7581f7",
   "metadata": {},
   "outputs": [
    {
     "name": "stdout",
     "output_type": "stream",
     "text": [
      "card is invalid!!\n"
     ]
    }
   ],
   "source": [
    "card_validation(\"435550553662\")"
   ]
  },
  {
   "cell_type": "code",
   "execution_count": 39,
   "id": "80c7f669-d22d-4caf-a977-27733babaf9e",
   "metadata": {},
   "outputs": [
    {
     "name": "stdout",
     "output_type": "stream",
     "text": [
      "card validation success\n"
     ]
    }
   ],
   "source": [
    "card_validation(\"435552543660\")"
   ]
  },
  {
   "cell_type": "code",
   "execution_count": null,
   "id": "e2e8b61e-c9f9-4186-a690-58b1dc094b99",
   "metadata": {},
   "outputs": [],
   "source": []
  }
 ],
 "metadata": {
  "kernelspec": {
   "display_name": "Python 3 (ipykernel)",
   "language": "python",
   "name": "python3"
  },
  "language_info": {
   "codemirror_mode": {
    "name": "ipython",
    "version": 3
   },
   "file_extension": ".py",
   "mimetype": "text/x-python",
   "name": "python",
   "nbconvert_exporter": "python",
   "pygments_lexer": "ipython3",
   "version": "3.11.7"
  },
  "widgets": {
   "application/vnd.jupyter.widget-state+json": {
    "state": {},
    "version_major": 2,
    "version_minor": 0
   }
  }
 },
 "nbformat": 4,
 "nbformat_minor": 5
}
